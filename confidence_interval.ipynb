{
  "cells": [
    {
      "metadata": {
        "collapsed": true
      },
      "cell_type": "markdown",
      "source": "信頼区間"
    },
    {
      "metadata": {},
      "cell_type": "markdown",
      "source": "例１\nある試験の点数の分布は正規分布であるとする．この試験を１０人の受験者に受けてもらってその点数を平均すると50点であった．この試験の標準偏差は5点であることがわかっている．受験者全体の平均点の95％信頼区間をもとめよ"
    },
    {
      "metadata": {
        "trusted": true
      },
      "cell_type": "code",
      "source": "n=10\nmean=50\nsd=5\nq=0.025\nz=abs(qnorm(q))\nL=mean - z*sd/sqrt(n)\nU=mean + z*sd/sqrt(n)\nprint(L)\nprint(U)",
      "execution_count": 1,
      "outputs": [
        {
          "output_type": "stream",
          "text": "[1] 46.90102\n[1] 53.09898\n",
          "name": "stdout"
        }
      ]
    },
    {
      "metadata": {},
      "cell_type": "markdown",
      "source": "例２\nある製品の製造工場で，ある日に作られた製品の中から100個をランダムに抽出して厚さを測定したら，平均が$\\bar{X}=2.346$ (mm)で分散が$s=0.047$ (mm)であった．母平均の信頼係数90％の信頼区間を求めよ．"
    },
    {
      "metadata": {
        "trusted": true
      },
      "cell_type": "code",
      "source": "n=100\nmean=2.346\ns=0.047\nq=0.05\nz=abs(qt(q,n-1))\nprint(z)\nL=mean - z*s/sqrt(n)\nU=mean + z*s/sqrt(n)\nprint(L)\nprint(U)",
      "execution_count": 2,
      "outputs": [
        {
          "output_type": "stream",
          "text": "[1] 1.660391\n[1] 2.338196\n[1] 2.353804\n",
          "name": "stdout"
        }
      ]
    },
    {
      "metadata": {
        "trusted": true
      },
      "cell_type": "code",
      "source": "",
      "execution_count": null,
      "outputs": []
    }
  ],
  "metadata": {
    "kernelspec": {
      "name": "r",
      "display_name": "R",
      "language": "R"
    },
    "language_info": {
      "mimetype": "text/x-r-source",
      "name": "R",
      "pygments_lexer": "r",
      "version": "3.5.3",
      "file_extension": ".r",
      "codemirror_mode": "r"
    }
  },
  "nbformat": 4,
  "nbformat_minor": 2
}