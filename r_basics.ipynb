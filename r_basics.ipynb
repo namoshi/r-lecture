{
  "cells": [
    {
      "metadata": {
        "collapsed": true
      },
      "cell_type": "markdown",
      "source": "四則演算"
    },
    {
      "metadata": {
        "trusted": true
      },
      "cell_type": "code",
      "source": "123 + 456",
      "execution_count": 1,
      "outputs": [
        {
          "output_type": "display_data",
          "data": {
            "text/plain": "[1] 579",
            "text/latex": "579",
            "text/markdown": "579",
            "text/html": "579"
          },
          "metadata": {}
        }
      ]
    },
    {
      "metadata": {
        "trusted": true
      },
      "cell_type": "code",
      "source": "123 - 456",
      "execution_count": 2,
      "outputs": [
        {
          "output_type": "display_data",
          "data": {
            "text/plain": "[1] -333",
            "text/latex": "-333",
            "text/markdown": "-333",
            "text/html": "-333"
          },
          "metadata": {}
        }
      ]
    },
    {
      "metadata": {
        "trusted": true
      },
      "cell_type": "code",
      "source": "123 * 456",
      "execution_count": 3,
      "outputs": [
        {
          "output_type": "display_data",
          "data": {
            "text/plain": "[1] 56088",
            "text/latex": "56088",
            "text/markdown": "56088",
            "text/html": "56088"
          },
          "metadata": {}
        }
      ]
    },
    {
      "metadata": {
        "trusted": true
      },
      "cell_type": "code",
      "source": "123 / 456",
      "execution_count": 4,
      "outputs": [
        {
          "output_type": "display_data",
          "data": {
            "text/plain": "[1] 0.2697368",
            "text/latex": "0.269736842105263",
            "text/markdown": "0.269736842105263",
            "text/html": "0.269736842105263"
          },
          "metadata": {}
        }
      ]
    },
    {
      "metadata": {},
      "cell_type": "markdown",
      "source": "定数"
    },
    {
      "metadata": {
        "trusted": true
      },
      "cell_type": "code",
      "source": "pi",
      "execution_count": 5,
      "outputs": [
        {
          "output_type": "display_data",
          "data": {
            "text/plain": "[1] 3.141593",
            "text/latex": "3.14159265358979",
            "text/markdown": "3.14159265358979",
            "text/html": "3.14159265358979"
          },
          "metadata": {}
        }
      ]
    },
    {
      "metadata": {},
      "cell_type": "markdown",
      "source": "代入"
    },
    {
      "metadata": {
        "trusted": true
      },
      "cell_type": "code",
      "source": "x = 12345\nprint(x)",
      "execution_count": 6,
      "outputs": [
        {
          "output_type": "stream",
          "text": "[1] 12345\n",
          "name": "stdout"
        }
      ]
    },
    {
      "metadata": {
        "trusted": true
      },
      "cell_type": "code",
      "source": "x <- 123\nx",
      "execution_count": 7,
      "outputs": [
        {
          "output_type": "display_data",
          "data": {
            "text/plain": "[1] 123",
            "text/latex": "123",
            "text/markdown": "123",
            "text/html": "123"
          },
          "metadata": {}
        }
      ]
    },
    {
      "metadata": {},
      "cell_type": "markdown",
      "source": "関数"
    },
    {
      "metadata": {
        "trusted": true
      },
      "cell_type": "code",
      "source": "x = 255\nsqrt(x)",
      "execution_count": 8,
      "outputs": [
        {
          "output_type": "display_data",
          "data": {
            "text/plain": "[1] 15.96872",
            "text/latex": "15.9687194226713",
            "text/markdown": "15.9687194226713",
            "text/html": "15.9687194226713"
          },
          "metadata": {}
        }
      ]
    },
    {
      "metadata": {
        "trusted": true
      },
      "cell_type": "code",
      "source": "sqrt(123)",
      "execution_count": 9,
      "outputs": [
        {
          "output_type": "display_data",
          "data": {
            "text/plain": "[1] 11.09054",
            "text/latex": "11.0905365064094",
            "text/markdown": "11.0905365064094",
            "text/html": "11.0905365064094"
          },
          "metadata": {}
        }
      ]
    },
    {
      "metadata": {
        "trusted": true
      },
      "cell_type": "code",
      "source": "x = 123\nlog(x)",
      "execution_count": 10,
      "outputs": [
        {
          "output_type": "display_data",
          "data": {
            "text/plain": "[1] 4.812184",
            "text/latex": "4.81218435537242",
            "text/markdown": "4.81218435537242",
            "text/html": "4.81218435537242"
          },
          "metadata": {}
        }
      ]
    },
    {
      "metadata": {
        "trusted": true
      },
      "cell_type": "code",
      "source": "sin(pi/2)",
      "execution_count": 11,
      "outputs": [
        {
          "output_type": "display_data",
          "data": {
            "text/plain": "[1] 1",
            "text/latex": "1",
            "text/markdown": "1",
            "text/html": "1"
          },
          "metadata": {}
        }
      ]
    },
    {
      "metadata": {},
      "cell_type": "markdown",
      "source": "系列"
    },
    {
      "metadata": {
        "trusted": true
      },
      "cell_type": "code",
      "source": "y = 3:7\nprint(y)",
      "execution_count": 12,
      "outputs": [
        {
          "output_type": "stream",
          "text": "[1] 3 4 5 6 7\n",
          "name": "stdout"
        }
      ]
    },
    {
      "metadata": {},
      "cell_type": "markdown",
      "source": "ベクトル"
    },
    {
      "metadata": {
        "trusted": true
      },
      "cell_type": "code",
      "source": "z = c(1, 2, 5, 4, 7)\nprint(z)",
      "execution_count": 13,
      "outputs": [
        {
          "output_type": "stream",
          "text": "[1] 1 2 5 4 7\n",
          "name": "stdout"
        }
      ]
    },
    {
      "metadata": {},
      "cell_type": "markdown",
      "source": "ベクトルに対する関数の適用（要素ごとに関数を適用）"
    },
    {
      "metadata": {
        "trusted": true
      },
      "cell_type": "code",
      "source": "sqrt(z)",
      "execution_count": 14,
      "outputs": [
        {
          "output_type": "display_data",
          "data": {
            "text/plain": "[1] 1.000000 1.414214 2.236068 2.000000 2.645751",
            "text/latex": "\\begin{enumerate*}\n\\item 1\n\\item 1.4142135623731\n\\item 2.23606797749979\n\\item 2\n\\item 2.64575131106459\n\\end{enumerate*}\n",
            "text/markdown": "1. 1\n2. 1.4142135623731\n3. 2.23606797749979\n4. 2\n5. 2.64575131106459\n\n\n",
            "text/html": "<ol class=list-inline>\n\t<li>1</li>\n\t<li>1.4142135623731</li>\n\t<li>2.23606797749979</li>\n\t<li>2</li>\n\t<li>2.64575131106459</li>\n</ol>\n"
          },
          "metadata": {}
        }
      ]
    },
    {
      "metadata": {
        "trusted": true
      },
      "cell_type": "code",
      "source": "print(z + 1.0)",
      "execution_count": 15,
      "outputs": [
        {
          "output_type": "stream",
          "text": "[1] 2 3 6 5 8\n",
          "name": "stdout"
        }
      ]
    },
    {
      "metadata": {},
      "cell_type": "markdown",
      "source": "ベクトルに対する計算"
    },
    {
      "metadata": {
        "trusted": true
      },
      "cell_type": "code",
      "source": "length(z)",
      "execution_count": 16,
      "outputs": [
        {
          "output_type": "display_data",
          "data": {
            "text/plain": "[1] 5",
            "text/latex": "5",
            "text/markdown": "5",
            "text/html": "5"
          },
          "metadata": {}
        }
      ]
    },
    {
      "metadata": {
        "trusted": true
      },
      "cell_type": "code",
      "source": "sum(z)",
      "execution_count": 17,
      "outputs": [
        {
          "output_type": "display_data",
          "data": {
            "text/plain": "[1] 19",
            "text/latex": "19",
            "text/markdown": "19",
            "text/html": "19"
          },
          "metadata": {}
        }
      ]
    },
    {
      "metadata": {
        "trusted": true
      },
      "cell_type": "code",
      "source": "mean(z)",
      "execution_count": 18,
      "outputs": [
        {
          "output_type": "display_data",
          "data": {
            "text/plain": "[1] 3.8",
            "text/latex": "3.8",
            "text/markdown": "3.8",
            "text/html": "3.8"
          },
          "metadata": {}
        }
      ]
    },
    {
      "metadata": {
        "trusted": true
      },
      "cell_type": "code",
      "source": "z[1]",
      "execution_count": 19,
      "outputs": [
        {
          "output_type": "display_data",
          "data": {
            "text/plain": "[1] 1",
            "text/latex": "1",
            "text/markdown": "1",
            "text/html": "1"
          },
          "metadata": {}
        }
      ]
    },
    {
      "metadata": {
        "trusted": true
      },
      "cell_type": "code",
      "source": "z[2:4]",
      "execution_count": 20,
      "outputs": [
        {
          "output_type": "display_data",
          "data": {
            "text/plain": "[1] 2 5 4",
            "text/latex": "\\begin{enumerate*}\n\\item 2\n\\item 5\n\\item 4\n\\end{enumerate*}\n",
            "text/markdown": "1. 2\n2. 5\n3. 4\n\n\n",
            "text/html": "<ol class=list-inline>\n\t<li>2</li>\n\t<li>5</li>\n\t<li>4</li>\n</ol>\n"
          },
          "metadata": {}
        }
      ]
    },
    {
      "metadata": {
        "trusted": false
      },
      "cell_type": "code",
      "source": "",
      "execution_count": null,
      "outputs": []
    }
  ],
  "metadata": {
    "kernelspec": {
      "name": "r",
      "display_name": "R",
      "language": "R"
    },
    "language_info": {
      "mimetype": "text/x-r-source",
      "name": "R",
      "pygments_lexer": "r",
      "version": "3.4.1",
      "file_extension": ".r",
      "codemirror_mode": "r"
    }
  },
  "nbformat": 4,
  "nbformat_minor": 2
}