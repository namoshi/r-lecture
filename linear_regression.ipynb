{
 "cells": [
  {
   "cell_type": "code",
   "execution_count": 1,
   "metadata": {},
   "outputs": [],
   "source": [
    "options(repr.plot.width=5, repr.plot.height=5)"
   ]
  },
  {
   "cell_type": "code",
   "execution_count": 2,
   "metadata": {},
   "outputs": [
    {
     "name": "stdout",
     "output_type": "stream",
     "text": [
      "     X  Y\n",
      "1  2.2 71\n",
      "2  4.1 81\n",
      "3  5.5 86\n",
      "4  1.9 72\n",
      "5  3.4 77\n",
      "6  2.6 73\n",
      "7  4.2 80\n",
      "8  3.7 81\n",
      "9  4.9 85\n",
      "10 3.2 74\n"
     ]
    }
   ],
   "source": [
    "#\n",
    "# Example of linear regression\n",
    "#\n",
    "# Read the data from file\n",
    "\n",
    "data1 = read.table(\"table4.txt\", header=TRUE)\n",
    "print(data1)"
   ]
  },
  {
   "cell_type": "code",
   "execution_count": 3,
   "metadata": {},
   "outputs": [
    {
     "data": {
      "image/png": "[encoded data removed]",
      "text/plain": [
       "plot without title"
      ]
     },
     "metadata": {
      "image/png": {
       "height": 300,
       "width": 300
      }
     },
     "output_type": "display_data"
    }
   ],
   "source": [
    "# plot samples\n",
    "plot(data1$X,data1$Y)\n",
    "#text(data1$X, data1$Y, labels = seq_along(data1$X), pos=4, col= 'blue')"
   ]
  },
  {
   "cell_type": "code",
   "execution_count": 4,
   "metadata": {},
   "outputs": [
    {
     "data": {
      "text/plain": [
       "\n",
       "Call:\n",
       "lm(formula = data1$Y ~ data1$X)\n",
       "\n",
       "Residuals:\n",
       "    Min      1Q  Median      3Q     Max \n",
       "-2.3265 -0.7850 -0.4219  0.8890  2.4120 \n",
       "\n",
       "Coefficients:\n",
       "            Estimate Std. Error t value Pr(>|t|)    \n",
       "(Intercept)  61.8528     1.5878   38.96 2.07e-10 ***\n",
       "data1$X       4.5230     0.4252   10.64 5.35e-06 ***\n",
       "---\n",
       "Signif. codes:  0 ‘***’ 0.001 ‘**’ 0.01 ‘*’ 0.05 ‘.’ 0.1 ‘ ’ 1\n",
       "\n",
       "Residual standard error: 1.471 on 8 degrees of freedom\n",
       "Multiple R-squared:  0.934,\tAdjusted R-squared:  0.9257 \n",
       "F-statistic: 113.1 on 1 and 8 DF,  p-value: 5.346e-06\n"
      ]
     },
     "metadata": {},
     "output_type": "display_data"
    }
   ],
   "source": [
    "# linear regression\n",
    "fit = lm(data1$Y ~ data1$X)\n",
    "\n",
    "# print the summary of the regression\n",
    "summary(fit)"
   ]
  },
  {
   "cell_type": "code",
   "execution_count": 5,
   "metadata": {},
   "outputs": [
    {
     "data": {
      "image/png": "[encoded data removed]",
      "text/plain": [
       "plot without title"
      ]
     },
     "metadata": {
      "image/png": {
       "height": 300,
       "width": 300
      }
     },
     "output_type": "display_data"
    }
   ],
   "source": [
    "# draw the regression line\n",
    "plot(data1$X,data1$Y)\n",
    "#text(data1$X, data1$Y, labels = seq_along(data1$X), pos=4, col= 'blue')\n",
    "abline(fit)"
   ]
  },
  {
   "cell_type": "code",
   "execution_count": null,
   "metadata": {},
   "outputs": [],
   "source": []
  }
 ],
 "metadata": {
  "kernelspec": {
   "display_name": "R",
   "language": "R",
   "name": "ir"
  },
  "language_info": {
   "codemirror_mode": "r",
   "file_extension": ".r",
   "mimetype": "text/x-r-source",
   "name": "R",
   "pygments_lexer": "r",
   "version": "3.6.3"
  }
 },
 "nbformat": 4,
 "nbformat_minor": 4
}
