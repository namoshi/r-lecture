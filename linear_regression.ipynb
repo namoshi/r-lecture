{
  "cells": [
    {
      "metadata": {
        "trusted": true
      },
      "cell_type": "code",
      "source": "options(repr.plot.width=5, repr.plot.height=5)",
      "execution_count": null,
      "outputs": []
    },
    {
      "metadata": {
        "trusted": true
      },
      "cell_type": "code",
      "source": "#\n# Example of linear regression\n#\n# Read the data from file\n\ndata1 = read.table(\"table4.txt\", header=TRUE)\nprint(data1)",
      "execution_count": null,
      "outputs": []
    },
    {
      "metadata": {
        "trusted": true
      },
      "cell_type": "code",
      "source": "# plot samples\nplot(data1$X,data1$Y)\n#text(data1$X, data1$Y, labels = seq_along(data1$X), pos=4, col= 'blue')",
      "execution_count": null,
      "outputs": []
    },
    {
      "metadata": {
        "trusted": true
      },
      "cell_type": "code",
      "source": "# linear regression\nfit = lm(data1$Y ~ data1$X)\n\n# print the summary of the regression\nsummary(fit)",
      "execution_count": null,
      "outputs": []
    },
    {
      "metadata": {
        "trusted": true
      },
      "cell_type": "code",
      "source": "# draw the regression line\nplot(data1$X,data1$Y)\n#text(data1$X, data1$Y, labels = seq_along(data1$X), pos=4, col= 'blue')\nabline(fit)",
      "execution_count": null,
      "outputs": []
    },
    {
      "metadata": {
        "trusted": true
      },
      "cell_type": "code",
      "source": "",
      "execution_count": null,
      "outputs": []
    }
  ],
  "metadata": {
    "kernelspec": {
      "name": "r",
      "display_name": "R",
      "language": "R"
    },
    "language_info": {
      "mimetype": "text/x-r-source",
      "name": "R",
      "pygments_lexer": "r",
      "version": "3.5.3",
      "file_extension": ".r",
      "codemirror_mode": "r"
    }
  },
  "nbformat": 4,
  "nbformat_minor": 2
}